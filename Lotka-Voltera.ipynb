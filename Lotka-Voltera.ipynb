{
 "cells": [
  {
   "cell_type": "markdown",
   "id": "fa921f36",
   "metadata": {},
   "source": [
    "# Lotka - Volterra Model"
   ]
  },
  {
   "cell_type": "markdown",
   "id": "6bf33f07",
   "metadata": {},
   "source": [
    "The model is a complex system of two oridinary differential equations used to modelling interspecific interactions. It was developed independently by Alfred Lotka and Vito Volterra in the 1920's, and is characterized by oscillations in the population size of both predator and prey. It uses a knowledge of interactions between species, its causes and consequences in given ecosystem to describe model's dynamics. "
   ]
  },
  {
   "cell_type": "markdown",
   "id": "ac7485a5",
   "metadata": {},
   "source": [
    "Depending on interactions between populations we can describe three ecosystems:\n",
    "- **predation** - one species is a prey the other is predator\n",
    "- **competition** - species fight for environmental resources\n",
    "- symbiosis - coexistence of at least two species (**mutualism**) or clear benefits are only for one species but without harming the other (**commensalism**) "
   ]
  },
  {
   "cell_type": "markdown",
   "id": "c3aa84a0",
   "metadata": {},
   "source": [
    "### History of the model\n",
    "\n",
    "Predator-prey model was proposed parallelly by Vito Volterra as a population model and Alfred Lotka in the theory of autocatalytic chemical reactions in 1910. Volterra proposed this model to explain a phenomenon observed after I World War. After War fishermans have found that populations of predatory fish in Adriatic has increased. It was a paradox for everyone because everyone expexted that poplulation after war should be reduced. Volterra using his model has proved that the increase of number of predators was such a normal phenomenon, because during the war fishing was stopped."
   ]
  },
  {
   "cell_type": "markdown",
   "id": "2ac949ff",
   "metadata": {},
   "source": [
    "### Abstract\n",
    "\n",
    "Our work mainly focus on implemention ODE's solvers, which are used to develop Lotka-Voltera model and its phase plot, which we discuss later.\n",
    "\n",
    "In our work we also cosinder: \n",
    "- modification of L-V Model called \"\", its phase plot\n",
    "- our own idea of ... \n",
    "\n",
    "To solve ODE's we used Runge-Kutta 4th order method and Euler method. Both of them are used to make comparison of accuracy and execution time."
   ]
  },
  {
   "cell_type": "markdown",
   "id": "ec7a5f4f",
   "metadata": {},
   "source": [
    "### Basic Model\n",
    "The origninal L-V model in simplest case (one predator population **P**, one prey population **N**), makes several simplifying assumptions: \n",
    "- the prey population will grow exponentially when the predator is absent; \n",
    "- the predator population will starve in the absence of the prey population (as opposed to switching to another type of prey); \n",
    "- predators can consume infinite quantities of prey; \n",
    "- there is no environmental complexity (in other words, both populations are moving randomly through a homogeneous environment)\n",
    "\n",
    "According to these rules we can formulate the system of differential equations: "
   ]
  },
  {
   "cell_type": "markdown",
   "id": "5e08fbf0",
   "metadata": {},
   "source": [
    "\\begin{equation}\n",
    "    \\begin{cases}\n",
    "        \\frac{dN}{dt} = N(a − bP)\\\\\n",
    "        \\frac{dP}{dt} = P(cN − d)\n",
    "    \\end{cases}\n",
    "\\end{equation}"
   ]
  },
  {
   "cell_type": "markdown",
   "id": "da61d5b8",
   "metadata": {},
   "source": [
    "where _a_, _b_, _c_ and _d_ are positive constants and **P(t)** means number of predators popualtion and **V(t)** number of prey population at time **t**. "
   ]
  },
  {
   "cell_type": "markdown",
   "id": "e353a383",
   "metadata": {},
   "source": [
    "Explanation:\n",
    "- The prey in the absence of any predation grows unboundedly accoriding to _Malthusian law_ **(aN)**\n",
    "- Due to predation the prey’s growth rate is reduced by a term proportional to the prey and predator populations **(−bNP)**\n",
    "- In the absence of any prey for sustenance the predator’s death rate results in exponential decay **(−dP)**\n",
    "- The prey’s contribution to the predators’ growth rate is **(cNP)**, it's proportional to the available prey as well as to the size of the predator population."
   ]
  },
  {
   "cell_type": "code",
   "execution_count": null,
   "id": "ad0e1caf",
   "metadata": {},
   "outputs": [],
   "source": [
    "a = 1.0; b = 1.0; c = 1.0; d = 1.0\n",
    "#F -> (t, N, P)\n",
    "functions = [lambda F: F[1] * (a - b * F[2]),\n",
    "             lambda F: F[2] * (c * F[1] -d)]\n",
    "\n",
    "#Phase portrait"
   ]
  },
  {
   "cell_type": "markdown",
   "id": "62ab9be1",
   "metadata": {},
   "source": [
    "### Example"
   ]
  },
  {
   "cell_type": "code",
   "execution_count": 12,
   "id": "01a436ee",
   "metadata": {},
   "outputs": [
    {
     "name": "stdout",
     "output_type": "stream",
     "text": [
      "[[0.20062479932356192 0.22846127580188264]\n",
      " [0.20077958912527452 0.2282786495236917 ]\n",
      " [0.20093453502094236 0.22809620456762544]\n",
      " [0.20108963715115846 0.22791394076786264]\n",
      " [0.20124489565665893 0.22773185795874548]\n",
      " [0.20140031067832298 0.22754995597477934]\n",
      " [0.20155588235717314 0.22736823465063272]\n",
      " [0.2017116108343753  0.2271866938211371 ]\n",
      " [0.20186749625123887 0.22700533332128675]\n",
      " [0.20202353874921686 0.2268241529862387 ]\n",
      " [0.202179738469906   0.22664315265131255]\n",
      " [0.20233609555504686 0.22646233215199027]\n",
      " [0.20249261014652398 0.2262816913239162 ]\n",
      " [0.20264928238636595 0.22610123000289684]\n",
      " [0.20280611241674557 0.2259209480249007 ]\n",
      " [0.2029631003799799  0.22574084522605825]\n",
      " [0.20312024641853038 0.22556092144266168]\n",
      " [0.20327755067500308 0.22538117651116485]\n",
      " [0.20343501329214864 0.2252016102681831 ]\n",
      " [0.20359263441286246 0.22502222255049326]\n",
      " [0.20375041418018483 0.22484301319503325]\n",
      " [0.203908352737301   0.22466398203890223]\n",
      " [0.20406645022754136 0.2244851289193603 ]\n",
      " [0.20422470679438146 0.22430645367382837]\n",
      " [0.2043831225814422  0.22412795613988817]\n",
      " [0.20454169773248998 0.22394963615528196]\n",
      " [0.2047004323914367  0.22377149355791245]\n",
      " [0.20485932670233997 0.22359352818584272]\n",
      " [0.20501838080940316 0.22341573987729602]\n",
      " [0.2051775948569756  0.2232381284706557 ]\n",
      " [0.2053369689895526  0.22306069380446503]\n",
      " [0.20549650335177563 0.22288343571742708]\n",
      " [0.20565619808843244 0.2227063540484046 ]\n",
      " [0.20581605334445713 0.22252944863641994]\n",
      " [0.2059760692649303  0.22235271932065478]\n",
      " [0.2061362459950792  0.22217616594045017]\n",
      " [0.20629658368027776 0.22199978833530626]\n",
      " [0.20645708246604672 0.22182358634488228]\n",
      " [0.20661774249805384 0.2216475598089963 ]\n",
      " [0.20677856392211397 0.22147170856762524]\n",
      " [0.20693954688418909 0.2212960324609046 ]\n",
      " [0.20710069153038854 0.22112053132912843]\n",
      " [0.2072619980069691  0.22094520501274914]\n",
      " [0.20742346646033505 0.2207700533523774 ]\n",
      " [0.2075850970370384  0.220595076188782  ]\n",
      " [0.2077468898837789  0.22042027336288975]\n",
      " [0.2079088451474042  0.22024564471578534]\n",
      " [0.20807096297491    0.22007119008871115]\n",
      " [0.20823324351344014 0.21989690932306724]\n",
      " [0.20839568691028665 0.2197228022604111 ]\n",
      " [0.20855829331289003 0.2195488687424576 ]\n",
      " [0.2087210628688392  0.21937510861107884]\n",
      " [0.20888399572587177 0.21920152170830404]\n",
      " [0.20904709203187402 0.21902810787631935]\n",
      " [0.2092103519348811  0.2188548669574678 ]\n",
      " [0.20937377558307715 0.21868179879424918]\n",
      " [0.20953736312479537 0.2185089032293198 ]\n",
      " [0.2097011147085182  0.21833618010549244]\n",
      " [0.2098650304828774  0.21816362926573626]\n",
      " [0.2100291105966542  0.21799125055317664]\n",
      " [0.2101933551987793  0.217819043811095  ]\n",
      " [0.21035776443833323 0.21764700888292873]\n",
      " [0.21052233846454627 0.2174751456122711 ]\n",
      " [0.2106870774267986  0.21730345384287106]\n",
      " [0.2108519814746205  0.2171319334186331 ]\n",
      " [0.2110170507576924  0.2169605841836172 ]\n",
      " [0.211182285425845   0.21678940598203866]\n",
      " [0.21134768562905945 0.216618398658268  ]\n",
      " [0.21151325151746742 0.21644756205683086]\n",
      " [0.2116789832413512  0.21627689602240768]\n",
      " [0.21184488095114393 0.2161064003998339 ]\n",
      " [0.2120109447974296  0.21593607503409953]\n",
      " [0.2121771749309432  0.21576591977034926]\n",
      " [0.2123435715025709  0.21559593445388217]\n",
      " [0.21251013466335011 0.21542611893015165]\n",
      " [0.2126768645644696  0.21525647304476533]\n",
      " [0.2128437613572697  0.21508699664348493]\n",
      " [0.21301082519324233 0.2149176895722261 ]\n",
      " [0.21317805622403116 0.21474855167705828]\n",
      " [0.21334545460143176 0.21457958280420467]\n",
      " [0.21351302047739165 0.214410782800042  ]\n",
      " [0.2136807540040105  0.21424215151110051]\n",
      " [0.21384865533354017 0.21407368878406374]\n",
      " [0.21401672461838495 0.21390539446576845]\n",
      " [0.21418496201110157 0.21373726840320445]\n",
      " [0.21435336766439939 0.21356931044351454]\n",
      " [0.21452194173114045 0.21340152043399435]\n",
      " [0.21469068436433972 0.21323389822209224]\n",
      " [0.2148595957171651  0.2130664436554091 ]\n",
      " [0.21502867594293756 0.2128991565816984 ]\n",
      " [0.21519792519513137 0.21273203684886582]\n",
      " [0.21536734362737409 0.21256508430496937]\n",
      " [0.21553693139344676 0.2123982987982191 ]\n",
      " [0.21570668864728404 0.21223168017697702]\n",
      " [0.2158766155429743  0.21206522828975707]\n",
      " [0.21604671223475974 0.21189894298522485]\n",
      " [0.21621697887703653 0.2117328241121976 ]\n",
      " [0.21638741562435493 0.21156687151964404]\n",
      " [0.2165580226314194  0.21140108505668426]\n",
      " [0.2167288000530888  0.2112354645725896 ]\n",
      " [0.21689974804437642 0.2110700099167825 ]\n",
      " [0.21707086676045012 0.2109047209388364 ]\n",
      " [0.2172421563566325  0.21073959748847562]\n",
      " [0.217413616988401   0.21057463941557528]\n",
      " [0.21758524881138805 0.21040984657016107]\n",
      " [0.2177570519813811  0.21024521880240923]\n",
      " [0.21792902665432287 0.21008075596264641]\n",
      " [0.21810117298631146 0.20991645790134952]\n",
      " [0.21827349113360037 0.2097523244691456 ]\n",
      " [0.2184459812525987  0.20958835551681174]\n",
      " [0.2186186434998713  0.20942455089527492]\n",
      " [0.2187914780321389  0.20926091045561193]\n",
      " [0.2189644850062781  0.20909743404904926]\n",
      " [0.21913766457932168 0.2089341215269629 ]\n",
      " [0.21931101690845867 0.20877097274087827]\n",
      " [0.21948454215103436 0.20860798754247017]\n",
      " [0.21965824046455057 0.2084451657835625 ]\n",
      " [0.21983211200666575 0.2082825073161283 ]\n",
      " [0.22000615693519507 0.20812001199228952]\n",
      " [0.22018037540811053 0.20795767966431697]\n",
      " [0.22035476758354114 0.20779551018463013]\n",
      " [0.22052933361977303 0.20763350340579714]\n",
      " [0.22070407367524958 0.20747165918053456]\n",
      " [0.22087898790857152 0.20730997736170734]\n",
      " [0.2210540764784971  0.20714845780232863]\n",
      " [0.22122933954394214 0.20698710035555973]\n",
      " [0.2214047772639803  0.20682590487470995]\n",
      " [0.22158038979784309 0.20666487121323646]\n",
      " [0.22175617730491998 0.20650399922474416]\n",
      " [0.22193213994475863 0.2063432887629857 ]\n",
      " [0.22210827787706497 0.2061827396818611 ]\n",
      " [0.22228459126170333 0.20602235183541795]\n",
      " [0.22246108025869651 0.20586212507785104]\n",
      " [0.22263774502822603 0.20570205926350235]\n",
      " [0.22281458573063218 0.20554215424686093]\n",
      " [0.22299160252641412 0.20538240988256276]\n",
      " [0.2231687955762301  0.20522282602539066]\n",
      " [0.2233461650408975  0.2050634025302741 ]\n",
      " [0.22352371108139302 0.2049041392522892 ]\n",
      " [0.2237014338588528  0.20474503604665853]\n",
      " [0.22387933353457254 0.204586092768751  ]\n",
      " [0.2240574102700076  0.20442730927408176]\n",
      " [0.2242356642267732  0.20426868541831208]\n",
      " [0.2244140955666445  0.20411022105724927]\n",
      " [0.22459270445155666 0.20395191604684648]\n",
      " [0.22477149104360516 0.20379377024320267]\n",
      " [0.2249504555050458  0.20363578350256242]\n",
      " [0.22512959799829482 0.20347795568131588]\n",
      " [0.22530891868592906 0.2033202866359986 ]\n",
      " [0.22548841773068612 0.20316277622329149]\n",
      " [0.22566809529546444 0.20300542430002055]\n",
      " [0.2258479515433235  0.20284823072315697]\n",
      " [0.2260279866374838  0.20269119534981683]\n",
      " [0.22620820074132722 0.20253431803726107]\n",
      " [0.22638859401839698 0.2023775986428954 ]\n",
      " [0.2265691666323978  0.20222103702427008]\n",
      " [0.22674991874719605 0.20206463303907993]\n",
      " [0.22693085052681997 0.20190838654516413]\n",
      " [0.2271119621354596  0.20175229740050615]\n",
      " [0.2272932537374671  0.20159636546323362]\n",
      " [0.22747472549735676 0.20144059059161817]\n",
      " [0.22765637757980525 0.2012849726440754 ]\n",
      " [0.22783821014965167 0.20112951147916475]\n",
      " [0.22802022337189762 0.20097420695558926]\n",
      " [0.22820241741170752 0.20081905893219568]\n",
      " [0.22838479243440857 0.20066406726797414]\n",
      " [0.22856734860549094 0.2005092318220582 ]\n",
      " [0.22875008609060793 0.20035455245372463]\n",
      " [0.2289330050555761  0.20020002902239334]\n",
      " [0.22911610566637536 0.20004566138762725]\n",
      " [0.22929938808914915 0.1998914494091322 ]\n",
      " [0.22948285249020453 0.19973739294675683]\n",
      " [0.22966649903601236 0.19958349186049246]\n",
      " [0.2298503278932074  0.19942974601047295]\n",
      " [0.23003433922858843 0.19927615525697465]\n",
      " [0.23021853320911848 0.19912271946041624]\n",
      " [0.2304029100019248  0.19896943848135862]\n",
      " [0.23058746977429917 0.1988163121805048 ]\n",
      " [0.2307722126936979  0.19866334041869985]\n",
      " [0.23095713892774206 0.1985105230569307 ]\n",
      " [0.2311422486442175  0.19835785995632604]\n",
      " [0.23132754201107517 0.19820535097815628]\n",
      " [0.23151301919643102 0.19805299598383333]\n",
      " [0.23169868036856633 0.1979007948349106 ]\n",
      " [0.23188452569592777 0.19774874739308282]\n",
      " [0.23207055534712748 0.19759685352018594]\n",
      " [0.23225676949094334 0.19744511307819704]\n",
      " [0.23244316829631897 0.19729352592923416]\n",
      " [0.23262975193236396 0.19714209193555626]\n",
      " [0.23281652056835392 0.1969908109595631 ]\n",
      " [0.23300347437373073 0.19683968286379508]\n",
      " [0.23319061351810258 0.19668870751093318]\n",
      " [0.23337793817124414 0.1965378847637988 ]\n",
      " [0.23356544850309666 0.1963872144853537 ]\n",
      " [0.2337531446837682  0.1962366965386999 ]\n",
      " [0.2339410268835337  0.1960863307870795 ]\n",
      " [0.23412909527283507 0.19593611709387457]\n",
      " [0.23431735002228143 0.19578605532260715]\n",
      " [0.2345057913026492  0.19563614533693904]]\n"
     ]
    }
   ],
   "source": [
    "a = 1.0; b = 1.0; c = 1.0; d = 1.0\n",
    "\n",
    "#F -> (t, N, P)\n",
    "functions = [lambda F: F[1] * (a - b * F[2]),\n",
    "             lambda F: F[2] * (c * F[1] -d)]\n",
    "\n",
    "Y2 = np.array([5.0, 2.5],dtype='d')\n",
    "\n",
    "# solution\n",
    "solver = calculate_euler_method(array, 20, 0, Y2)\n",
    "\n",
    "#Ploting\n",
    "print(sol[-200:-1])"
   ]
  },
  {
   "cell_type": "markdown",
   "id": "4b592e16",
   "metadata": {},
   "source": [
    " W tym rozdziale zajmiemy się opisem średnich zagęszczeń obu populacji, nie uwzględnimy prze-\n",
    "strzennego rozmieszczenia osobników w ekosystemie, co oczywiście kryje dodatkowe założenie,\n",
    "\n",
    "że osobniki są rozmieszczone jednorodnie i jest ich dostatecznie dużo, aby można było mówić o\n",
    "średnim zagęszczeniu.\n",
    "\n",
    " Co więcej, model ten odzwierciedla znane w ekologii prawo\n",
    "zachowania średnich, które mówi, że w naturalnych siedliskach zmiany liczebności populacji w\n",
    "czasie zachodzą tak, że zachowana zostaje liczebność średnia.\n",
    "\n",
    "Zaczniemy od przedstawienia modelu heurystycznego, na bazie którego wyprowadzamy rów-\n",
    "nania modelu Lotki – Volterry. Zakładamy, że w ekosystemie występują dwa gatunki Pd i Po,\n",
    "\n",
    "przy czym osobniki drugiego gatunku stanowią pożywienie osobników pierwszego gatunku, czyli\n",
    "drapieżników. Jeśli nie ma drapieżników, to gatunek Po ma bardzo dobre warunki i może się\n",
    "\n",
    "rozwijać, podlegając prawu Malthusa ze współczynnikiem rozrodczości r > 0. Natomiast dra-\n",
    "pieżniki, jeśli nie ma ofiar, to nie mają co jeść, więc giną z głodu. Jeśli w środowisku są osobniki\n",
    "\n",
    "obu gatunków, to drapieżniki polują na ofiary. Zakładamy, że polowanie jest możliwe tylko w\n",
    "przypadku bezpośredniego kontaktu, osobniki poruszają się losowo, zatem liczba kontaktów jest\n",
    "proporcjonalna do liczebności obu gatunków. Zauważmy, że w takiej sytuacji dla pojedynczegodrapieżnika mamy odpowiedź funkcjonalną Hollinga typu I. W związku z polowaniem ubywa\n",
    "osobników gatunku Po, proporcjonalnie do liczby spotkań, a współczynnik proporcjonalności\n",
    "odzwierciedla skuteczność drapieżnika. Po upolowaniu ofiary drapieżnik zyskuje energię, której\n",
    "część przeznacza na rozmnażanie.\n",
    "Niech P(t) oznacza zagęszczenie drapieżników, a V (t) — zagęszczenie ofiar. Na podstawie\n",
    "\n",
    "powyższego modelu heurystycznego zapiszemy układ równań różniczkowych dynamiki obu po-\n",
    "pulacji gdzie dla uproszczenia zapisu pomijamy zmienną niezależną t. Poszczególne składniki ukła-\n",
    "du (6.1) mają następującą interpretację\n",
    "\n",
    "— rV i −sP opisują wewnętrzną dynamikę odpowiednio gatunku Po i Pd, r jest współczynni-\n",
    "kiem rozrodczości ofiar, a s — współczynnikiem śmiertelności drapieżników;\n",
    "\n",
    "— aV P odzwierciedla liczbę losowych spotkań osobników obu gatunków, a jest współczynni-\n",
    "kiem skuteczności polowania, składnik ten interpretujemy także jako biomasę upolowanych\n",
    "\n",
    "ofiar;\n",
    "— współczynnik b odzwierciedla część upolowanej biomasy, którą gatunek Pd przeznacza na\n",
    "reprodukcję.\n",
    "Przejdziemy teraz do analizy zachowania rozwiązań układu (6.1). Ponieważ układ (6.1) jest\n",
    "autonomiczny, więc bez straty ogólności przyjmujemy, że t0 = 0 i V (0) = V0, P(0) = P0.\n",
    "Sformułujemy najpierw następujące stwierdzenie."
   ]
  },
  {
   "cell_type": "code",
   "execution_count": null,
   "id": "903578d4",
   "metadata": {},
   "outputs": [],
   "source": []
  },
  {
   "cell_type": "markdown",
   "id": "0319f6ce",
   "metadata": {},
   "source": [
    "### END OF L_V SIMPLE"
   ]
  },
  {
   "cell_type": "code",
   "execution_count": null,
   "id": "fc4ea736",
   "metadata": {},
   "outputs": [],
   "source": []
  },
  {
   "cell_type": "markdown",
   "id": "5ec7ced7",
   "metadata": {},
   "source": [
    "### TMP "
   ]
  },
  {
   "cell_type": "code",
   "execution_count": 9,
   "id": "66b698da",
   "metadata": {
    "scrolled": true
   },
   "outputs": [
    {
     "name": "stdout",
     "output_type": "stream",
     "text": [
      "[0.20077958912527452 0.2282786495236917 ]\n"
     ]
    }
   ],
   "source": [
    "# system od ODEs (the same for both examples)\n",
    "a = 1.0\n",
    "b = 1.0\n",
    "c = 1.0\n",
    "d = 1.0\n",
    "t = 500\n",
    "N = 250 # Number of preys in the begining so replaced by array of time\n",
    "P = 250 # Number of predator in the begining so replaced by array of time\n",
    "\n",
    "#F -> (t, N, P)\n",
    "array = [lambda F: F[1] * (a - b * F[2]),\n",
    "         lambda F: F[2] * (c * F[1] -d)]\n",
    "\n",
    "# array = [(t, N, P) -> (N * (a - b * P)),\n",
    "#          (t, N, P) -> (P * (c * N - d))]\n",
    "\n",
    "Y2 = np.array([3.0, 2.5],dtype='d')\n",
    "#evaluate(array, 0, Y2)\n",
    "# solution\n",
    "sol = calculate_euler_method(array, 20, 0, Y2)\n",
    "print(sol[-200:-1])"
   ]
  },
  {
   "cell_type": "code",
   "execution_count": null,
   "id": "30fef998",
   "metadata": {},
   "outputs": [],
   "source": []
  },
  {
   "cell_type": "markdown",
   "id": "b57a03dd",
   "metadata": {},
   "source": [
    "### Functions in use"
   ]
  },
  {
   "cell_type": "code",
   "execution_count": 1,
   "id": "c06f3da2",
   "metadata": {},
   "outputs": [],
   "source": [
    "import numpy as np\n",
    "np.set_printoptions(precision=22)"
   ]
  },
  {
   "cell_type": "code",
   "execution_count": 2,
   "id": "f7339f5c",
   "metadata": {},
   "outputs": [],
   "source": [
    "def evaluate(array, X, Y):\n",
    "    return np.array([function((X, Y[0], Y[1])) for function in array],dtype='d')"
   ]
  },
  {
   "cell_type": "code",
   "execution_count": 13,
   "id": "e81c9046",
   "metadata": {},
   "outputs": [],
   "source": [
    "def calculate_euler_method(F,x,X,Y,h=1e-3):\n",
    "    #look out for n !\n",
    "    n = int(x/h)\n",
    "    tmp = np.array([0,0], dtype='d')\n",
    "    for i in range(n):\n",
    "        Y = Y + evaluate(F, X, Y) * h\n",
    "        X += h\n",
    "        tmp = np.vstack((tmp, Y))\n",
    "    return tmp[1:]\n"
   ]
  },
  {
   "cell_type": "code",
   "execution_count": 14,
   "id": "fad8d46b",
   "metadata": {},
   "outputs": [],
   "source": [
    "def runge_kutta_method(F, x, X, Y, h=1e-3):\n",
    "    #look out for n !\n",
    "    n = int(x/h)\n",
    "    tmp = np.array([0,0], dtype='g')\n",
    "    print(n)\n",
    "    for i in range(n):\n",
    "        part_1 = evaluate(F, X, Y)\n",
    "        part_2 = evaluate(F, X + 1/2 * h,  Y + 1/2 * h * part_1 )\n",
    "        part_3 = evaluate(F, X + 1/2 * h,  Y + 1/2 * h * part_2)\n",
    "        part_4 = evaluate(F, X + h, Y + h * part_3)\n",
    "\n",
    "        Y = Y + h / 6 * (part_1 + 2*part_2 + 2*part_3 + part_4)\n",
    "        X += h\n",
    "        tmp = np.vstack((tmp, Y))\n",
    "    return tmp[1:]"
   ]
  },
  {
   "cell_type": "code",
   "execution_count": null,
   "id": "271e2a19",
   "metadata": {},
   "outputs": [],
   "source": []
  }
 ],
 "metadata": {
  "kernelspec": {
   "display_name": "Python 3 (ipykernel)",
   "language": "python",
   "name": "python3"
  },
  "language_info": {
   "codemirror_mode": {
    "name": "ipython",
    "version": 3
   },
   "file_extension": ".py",
   "mimetype": "text/x-python",
   "name": "python",
   "nbconvert_exporter": "python",
   "pygments_lexer": "ipython3",
   "version": "3.8.12"
  }
 },
 "nbformat": 4,
 "nbformat_minor": 5
}
